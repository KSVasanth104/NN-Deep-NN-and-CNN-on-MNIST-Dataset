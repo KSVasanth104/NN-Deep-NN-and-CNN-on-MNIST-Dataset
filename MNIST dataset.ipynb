{
 "cells": [
  {
   "cell_type": "markdown",
   "metadata": {},
   "source": [
    "# CS5950J Course Project\n",
    "\n",
    "This project recaps and systematises work that has been done in the exercise notebooks: if you have worked through the notebooks, little extra work is required.  The aim of the project is to give you the experience of trying to develop a neural network classifier, involving setting up a model, optimising the amount of regularisation, and investigating its performance. \n",
    "\n",
    "You should do your work in this notebook, filling in the sections below. To do the work, you may re-use code from ***any of the lab-session sheets provided so far***. (In fact, you should be able to do nearly the entire project using code taken from previous lab sessions.) \n",
    "\n",
    "Please complete this workbook and submit it on Moodle, with all outputs (numbers and graphs) visible and included. \n",
    "\n",
    "The deadline for this assignment is **8 July 2022, 10am**\n",
    "\n",
    "This project has **10%** of the marks of the course.\n",
    "\n",
    "Please write your student number **here**:     \n",
    "so that I have an identifier of which worksheet I am marking, to prevent any confusion! (I have to download your notebooks before marking them, so I don't want to accidentally give credit for your notebook to somebody else...) "
   ]
  },
  {
   "cell_type": "markdown",
   "metadata": {},
   "source": [
    "## Set up dataset ***10 marks***\n",
    "\n",
    "You may choose any of the datasets included with Pytorch, or used in the course so far (including, for example, the percolation data). (It is a free country and you may use any other data you wish.)\n",
    "\n",
    "A safe choice would be either the MNIST data or the MNIST-fashion data, which is a drop-in replacement for MNIST (same size data format, same number of classes, same number of training and test examples). \n",
    "\n",
    "A more interesting choice would be CIFAR-10\n",
    "\n",
    "In setting up the data, you should set up a training set and a test set. The test set should be large enough to give a reasonably accurate assessment of the error-rate (or loss) of your models: preferably at least 10,000 examples.\n",
    "\n",
    "For the learning curve experiment (below), you will need to construct training sets of different sizes, with the largest at least 10 times the smallest. For the MNIST data, for example, your smallest training set might be 500, with sizes 500, 1000, 2000, 4000, 8000, 16000, 32000, and perhaps 60000 if you have time. (You get no extra marks for doing very long experiments.) "
   ]
  },
  {
   "cell_type": "code",
   "execution_count": 1,
   "metadata": {},
   "outputs": [],
   "source": [
    "import numpy as np\n",
    "import matplotlib.pyplot as plt\n",
    "import matplotlib.cm as cm  \n",
    "%matplotlib inline\n",
    "import torch\n",
    "import torch.nn as nn\n",
    "import torch.nn.functional as F\n",
    "import torchvision\n",
    "import torchvision.datasets as datasets\n",
    "from torchvision import transforms\n",
    "\n",
    "input_size= 784\n",
    "hidden_size= 100\n",
    "num_classes= 10\n",
    "num_epochs= 50\n",
    "batch_size= 100\n",
    "learning_rate= 0.001\n",
    "\n",
    "transform_list = transforms.Compose([ transforms.ToTensor(), transforms.Normalize(mean=[0.0], std=[1.0,]) ] )\n",
    "mnist_trainset = datasets.MNIST(root='./data', train=True, download=True, transform=transform_list)\n",
    "mnist_testset = datasets.MNIST(root='./data', train=False, transform=transform_list)\n",
    "\n",
    "\n",
    "# your code here (you can freely used and modify code from course lab-sheets throughout this project)"
   ]
  },
  {
   "cell_type": "code",
   "execution_count": 2,
   "metadata": {},
   "outputs": [],
   "source": [
    "trainloader = torch.utils.data.DataLoader( mnist_trainset, batch_size=batch_size, shuffle=True)\n",
    "testloader = torch.utils.data.DataLoader( mnist_testset, batch_size=batch_size, shuffle=True)\n"
   ]
  },
  {
   "cell_type": "markdown",
   "metadata": {},
   "source": [
    "## Set up model \n",
    "\n",
    "Set up a Pytorch model. Train on an intermediate-sized dataset (if you are using MNIST, say 10000). \n",
    "\n",
    "\n",
    "Plot the loss and error rate as a function of training epochs. \n",
    "\n",
    "\n",
    "###  1.  Model assessment:    ***30 marks***\n",
    "\n",
    "Ensure that your model is complex enough to *overfit* the training data: that is the loss/error-rate on the training set should be below your target loss/error-rate, and the loss/error-rate on the validation set should be higher than this (preferably higher than your target error-rate). "
   ]
  },
  {
   "cell_type": "code",
   "execution_count": 3,
   "metadata": {},
   "outputs": [],
   "source": [
    "class NeuralNet(nn.Module):\n",
    "    def __init__(self, input_size, hidden_size, num_classes):\n",
    "        super(NeuralNet, self). __init__()\n",
    "        self.l1= nn.Linear(input_size, hidden_size)\n",
    "        self.relu= nn.ReLU()\n",
    "        self.l2= nn.Linear(hidden_size, num_classes)\n",
    "    def forward(self, x):\n",
    "        out= self.l1(x)\n",
    "        out= self.relu(out)\n",
    "        out= self.l2(out)\n",
    "        return out\n",
    "model= NeuralNet(input_size, hidden_size, num_classes)\n",
    "\n",
    "criterion= nn.CrossEntropyLoss()\n",
    "optimizer= torch.optim.SGD(model.parameters(), lr= learning_rate)\n",
    "\n",
    "los= []\n",
    "t_loss=[]\n",
    "for epoch in range (num_epochs):\n",
    "    avg= 0\n",
    "\n",
    "    for i, (images, labels) in enumerate(trainloader):\n",
    "\n",
    "        images= images.reshape(-1, 28*28)\n",
    "        labels= labels\n",
    "        outputs= model(images)\n",
    "        loss = criterion(outputs, labels)\n",
    "\n",
    "        avg = avg + loss\n",
    "        optimizer.zero_grad()\n",
    "        loss.backward()\n",
    "        optimizer.step()\n",
    "    los.append(avg/600)\n",
    "    \n",
    "    with torch.no_grad():\n",
    "        n_loss=0\n",
    "        for images, labels in testloader:\n",
    "            images= images.reshape(-1, 28*28) \n",
    "            labels= labels \n",
    "            outputs= model(images)\n",
    "            _,predictions= torch.max(outputs, 1)\n",
    "            n_loss +=(predictions != labels).sum().item()\n",
    "    \n",
    "        t_loss.append(n_loss / 10000)\n",
    "    \n",
    "            "
   ]
  },
  {
   "cell_type": "code",
   "execution_count": 4,
   "metadata": {},
   "outputs": [],
   "source": [
    "a=[torch.Tensor.detach(los[i]).numpy() for i in range(len(los))]"
   ]
  },
  {
   "cell_type": "code",
   "execution_count": 8,
   "metadata": {
    "scrolled": true
   },
   "outputs": [
    {
     "data": {
      "text/plain": [
       "Text(0.5, 1.0, 'Train_loss')"
      ]
     },
     "execution_count": 8,
     "metadata": {},
     "output_type": "execute_result"
    },
    {
     "data": {
      "image/png": "[encoded data removed]",
      "text/plain": [
       "<Figure size 432x288 with 1 Axes>"
      ]
     },
     "metadata": {
      "needs_background": "light"
     },
     "output_type": "display_data"
    }
   ],
   "source": [
    "x= range(0,50)\n",
    "plt.plot(x,a)\n",
    "plt.xlabel(\"Epoch\")\n",
    "plt.ylabel(\"loss label\")\n",
    "plt.title(\"Train_loss\")"
   ]
  },
  {
   "cell_type": "markdown",
   "metadata": {},
   "source": [
    "x = epoch\n",
    "y= loss\n",
    "label = train_loss"
   ]
  },
  {
   "cell_type": "code",
   "execution_count": 9,
   "metadata": {},
   "outputs": [
    {
     "data": {
      "text/plain": [
       "Text(0.5, 1.0, 'Test_loss')"
      ]
     },
     "execution_count": 9,
     "metadata": {},
     "output_type": "execute_result"
    },
    {
     "data": {
      "image/png": "[encoded data removed]",
      "text/plain": [
       "<Figure size 432x288 with 1 Axes>"
      ]
     },
     "metadata": {
      "needs_background": "light"
     },
     "output_type": "display_data"
    }
   ],
   "source": [
    "plt.plot(x,t_loss)\n",
    "plt.xlabel(\"Epoch\")\n",
    "plt.ylabel(\"loss label\")\n",
    "plt.title(\"Test_loss\")"
   ]
  },
  {
   "cell_type": "markdown",
   "metadata": {},
   "source": [
    "### 2.  Regularisation experiment:  ***30 marks***\n",
    "\n",
    "Now select a type of regularisation (which may be L2, or dropout) and train your model with different amounts of regularisation. \n",
    "\n",
    "A small amount of regularisation may improve the validation set performance of your overfitted model; too much regularisation may make performance on the validation set worse. \n",
    "\n",
    "Train your model multiple times, applying different amounts of regularisation, and plot a graph showing the effect of different amounts of regularisation. \n",
    "\n",
    "Plot the amount of regularisation along the x axis, and the validation set performance (loss/error-rate) on the y axis.  How does regularisation affect the performance of your initial network, and what is the optimal amount? "
   ]
  },
  {
   "cell_type": "code",
   "execution_count": 10,
   "metadata": {},
   "outputs": [],
   "source": [
    "Reg= [0.001, 0.003,0.009, 0.05, 0.1]\n",
    "t_loss= []\n",
    "for i in Reg:\n",
    "    \n",
    "    model= NeuralNet(input_size, hidden_size, num_classes)\n",
    "    criterion= nn.CrossEntropyLoss()\n",
    "    optimizer= torch.optim.SGD(model.parameters(), lr= learning_rate, weight_decay= i)\n",
    "    \n",
    "    for epoch in range (num_epochs):\n",
    "        for i, (images, labels) in enumerate(trainloader):\n",
    "            images= images.reshape(-1, 28*28)#.to(device)\n",
    "            labels= labels#.to(device)\n",
    "            outputs= model(images)\n",
    "            loss = criterion(outputs, labels)\n",
    "            optimizer.zero_grad()\n",
    "            loss.backward()\n",
    "            optimizer.step()\n",
    "            \n",
    "    with torch.no_grad():\n",
    "        n_loss=0\n",
    "        for images, labels in testloader:\n",
    "            images= images.reshape(-1, 28*28) #.to(device)\n",
    "            labels= labels #.to(device)\n",
    "            outputs= model(images)\n",
    "            _,predictions= torch.max(outputs, 1)\n",
    "            n_loss +=(predictions != labels).sum().item()\n",
    "        t_loss.append(n_loss / 10000)\n",
    "        "
   ]
  },
  {
   "cell_type": "code",
   "execution_count": 11,
   "metadata": {},
   "outputs": [
    {
     "data": {
      "text/plain": [
       "Text(0.5, 1.0, 'Test loss')"
      ]
     },
     "execution_count": 11,
     "metadata": {},
     "output_type": "execute_result"
    },
    {
     "data": {
      "image/png": "[encoded data removed]",
      "text/plain": [
       "<Figure size 432x288 with 1 Axes>"
      ]
     },
     "metadata": {
      "needs_background": "light"
     },
     "output_type": "display_data"
    }
   ],
   "source": [
    "plt.plot(Reg, t_loss)\n",
    "plt.xlabel(\"Regu amount\")\n",
    "plt.ylabel(\"loss label\")\n",
    "plt.title(\"Test loss\")"
   ]
  },
  {
   "cell_type": "markdown",
   "metadata": {},
   "source": [
    "x = regu_amount\n",
    "y= loss\n",
    "label = test_loss"
   ]
  },
  {
   "cell_type": "markdown",
   "metadata": {},
   "source": [
    "### 3.  Learning curve experiment:  ***30 marks***\n",
    "\n",
    "Now train your model (with the amount of regularisation you selected) on different amounts of training data. \n",
    "\n",
    "Plot the performance (loss/error-rate) of the model on the validation set against the size of the training set. \n",
    "This is typically best done on a log-log plot. \n",
    "\n",
    "Describe the approximate relationship between the training set size and loss / error-rate.  Does the network performance appear to improve as some power of the amount of data in the training set?  If so, by what power ? \n",
    "\n",
    "For example, a very good rate of improvement is for error-rate to be proportional to $\\dfrac{1}{\\sqrt{n}}$ where $n$ is the training set size.  For your model, the rate of improvement of validation error with training set size may not be as fast as this (or it may, who knows?)  The aim of this exercise is to find out what it actually is. "
   ]
  },
  {
   "cell_type": "code",
   "execution_count": 12,
   "metadata": {},
   "outputs": [],
   "source": [
    "# your code here\n",
    "train_amount= [1000, 2000, 4000, 8000, 16000, 32000]\n",
    "t_loss= []\n",
    "for i in train_amount:\n",
    "    \n",
    "    mnist_small=[mnist_trainset[i] for i in range(0,i) ]\n",
    "    trainloader_small = torch.utils.data.DataLoader( mnist_small, batch_size=batch_size, shuffle=True)\n",
    "    \n",
    "    \n",
    "    \n",
    "    model= NeuralNet(input_size, hidden_size, num_classes)\n",
    "    criterion= nn.CrossEntropyLoss()\n",
    "    optimizer= torch.optim.SGD(model.parameters(), lr= learning_rate, weight_decay= 0.003)\n",
    "    \n",
    "    \n",
    "    for epoch in range (num_epochs):\n",
    "        for i, (images, labels) in enumerate(trainloader_small):\n",
    "            images= images.reshape(-1, 28*28)\n",
    "            labels= labels\n",
    "            outputs= model(images)\n",
    "            loss = criterion(outputs, labels)\n",
    "            optimizer.zero_grad()\n",
    "            loss.backward()\n",
    "            optimizer.step()\n",
    "            \n",
    "            \n",
    "    with torch.no_grad():\n",
    "        n_loss=0\n",
    "        for images, labels in testloader:\n",
    "            images= images.reshape(-1, 28*28)\n",
    "            labels= labels\n",
    "            outputs= model(images)\n",
    "            _,predictions= torch.max(outputs, 1)\n",
    "            n_loss +=(predictions != labels).sum().item()\n",
    "        t_loss.append(n_loss / 10000)\n",
    "        "
   ]
  },
  {
   "cell_type": "code",
   "execution_count": 13,
   "metadata": {},
   "outputs": [
    {
     "data": {
      "text/plain": [
       "Text(0.5, 1.0, 'test_loss')"
      ]
     },
     "execution_count": 13,
     "metadata": {},
     "output_type": "execute_result"
    },
    {
     "data": {
      "image/png": "[encoded data removed]",
      "text/plain": [
       "<Figure size 432x288 with 1 Axes>"
      ]
     },
     "metadata": {
      "needs_background": "light"
     },
     "output_type": "display_data"
    }
   ],
   "source": [
    "plt.plot(train_amount,t_loss)\n",
    "plt.xlabel(\"Train amount\")\n",
    "plt.ylabel(\"loss label\")\n",
    "plt.title(\"test_loss\")"
   ]
  },
  {
   "cell_type": "markdown",
   "metadata": {},
   "source": [
    "x = train amount\n",
    "y= loss\n",
    "label = test_loss"
   ]
  }
 ],
 "metadata": {
  "kernelspec": {
   "display_name": "Python 3 (ipykernel)",
   "language": "python",
   "name": "python3"
  },
  "language_info": {
   "codemirror_mode": {
    "name": "ipython",
    "version": 3
   },
   "file_extension": ".py",
   "mimetype": "text/x-python",
   "name": "python",
   "nbconvert_exporter": "python",
   "pygments_lexer": "ipython3",
   "version": "3.10.5"
  }
 },
 "nbformat": 4,
 "nbformat_minor": 4
}
